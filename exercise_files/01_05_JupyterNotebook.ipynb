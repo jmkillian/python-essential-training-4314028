{
 "cells": [
  {
   "cell_type": "markdown",
   "id": "62ce1d82",
   "metadata": {},
   "source": [
    "# M for Markdown section title\n",
    "## Smaller Title"
   ]
  },
  {
   "cell_type": "markdown",
   "id": "12d15452",
   "metadata": {},
   "source": [
    "\\begin{equation}\n",
    "e^x=\\sum_{i=0}^\\infty \\frac{1}{i!}x^i\n",
    "\\end{equation}"
   ]
  },
  {
   "cell_type": "markdown",
   "id": "aa6cefd4-e931-420a-9194-49fa324ffbac",
   "metadata": {},
   "source": []
  },
  {
   "cell_type": "code",
   "execution_count": 6,
   "id": "ab0b33ee",
   "metadata": {},
   "outputs": [
    {
     "name": "stdout",
     "output_type": "stream",
     "text": [
      "Doing some data science!\n"
     ]
    }
   ],
   "source": [
    "print('Doing some data science!')"
   ]
  },
  {
   "cell_type": "code",
   "execution_count": 5,
   "id": "70df0832",
   "metadata": {},
   "outputs": [
    {
     "name": "stdout",
     "output_type": "stream",
     "text": [
      "2\n"
     ]
    }
   ],
   "source": [
    "print(1 + 1)"
   ]
  },
  {
   "cell_type": "code",
   "execution_count": null,
   "id": "95b529a8-28c4-429e-83e7-b1ca57cc721a",
   "metadata": {},
   "outputs": [],
   "source": []
  },
  {
   "cell_type": "code",
   "execution_count": 7,
   "id": "23519052",
   "metadata": {},
   "outputs": [
    {
     "name": "stdout",
     "output_type": "stream",
     "text": [
      "Doing some stuff!\n"
     ]
    }
   ],
   "source": [
    "print('Doing some stuff!')"
   ]
  },
  {
   "cell_type": "code",
   "execution_count": null,
   "id": "eaec7f7f-9755-48ff-9e52-d07529cf8afa",
   "metadata": {},
   "outputs": [],
   "source": []
  }
 ],
 "metadata": {
  "kernelspec": {
   "display_name": "Python 3 (ipykernel)",
   "language": "python",
   "name": "python3"
  },
  "language_info": {
   "codemirror_mode": {
    "name": "ipython",
    "version": 3
   },
   "file_extension": ".py",
   "mimetype": "text/x-python",
   "name": "python",
   "nbconvert_exporter": "python",
   "pygments_lexer": "ipython3",
   "version": "3.11.5"
  },
  "vscode": {
   "interpreter": {
    "hash": "949777d72b0d2535278d3dc13498b2535136f6dfe0678499012e853ee9abcab1"
   }
  }
 },
 "nbformat": 4,
 "nbformat_minor": 5
}
